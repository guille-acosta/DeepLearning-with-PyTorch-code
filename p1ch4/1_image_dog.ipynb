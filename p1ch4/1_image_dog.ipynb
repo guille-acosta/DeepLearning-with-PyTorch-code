{
  "cells": [
    {
      "cell_type": "code",
      "execution_count": 2,
      "metadata": {
        "id": "4hTo6EDu0OYY"
      },
      "outputs": [],
      "source": [
        "import numpy as np\n",
        "import torch\n",
        "torch.set_printoptions(edgeitems=2, threshold=50)"
      ]
    },
    {
      "cell_type": "code",
      "source": [
        "from google.colab import drive\n",
        "drive.mount('/content/drive')"
      ],
      "metadata": {
        "id": "5WQZELTF02TI",
        "outputId": "8daeb175-e239-420f-95eb-3426576dac10",
        "colab": {
          "base_uri": "https://localhost:8080/"
        }
      },
      "execution_count": 1,
      "outputs": [
        {
          "output_type": "stream",
          "name": "stdout",
          "text": [
            "Mounted at /content/drive\n"
          ]
        }
      ]
    },
    {
      "cell_type": "code",
      "execution_count": 3,
      "metadata": {
        "id": "7gUbNacB0OYg",
        "outputId": "f977ebea-bd96-448b-b9cd-667a7fc787e8",
        "colab": {
          "base_uri": "https://localhost:8080/"
        }
      },
      "outputs": [
        {
          "output_type": "stream",
          "name": "stderr",
          "text": [
            "<ipython-input-3-fed2830a96d6>:3: DeprecationWarning: Starting with ImageIO v3 the behavior of this function will switch to that of iio.v3.imread. To keep the current behavior (and make this warning disappear) use `import imageio.v2 as imageio` or call `imageio.v2.imread` directly.\n",
            "  img_arr = imageio.imread('/content/drive/MyDrive/datasets/DeepLearningPyTorch/p1ch4/image-dog/bobby.jpg')\n"
          ]
        },
        {
          "output_type": "execute_result",
          "data": {
            "text/plain": [
              "(720, 1280, 3)"
            ]
          },
          "metadata": {},
          "execution_count": 3
        }
      ],
      "source": [
        "import imageio\n",
        "\n",
        "img_arr = imageio.imread('/content/drive/MyDrive/datasets/DeepLearningPyTorch/p1ch4/image-dog/bobby.jpg')\n",
        "img_arr.shape"
      ]
    },
    {
      "cell_type": "code",
      "execution_count": 4,
      "metadata": {
        "id": "Lh76qxoT0OYi"
      },
      "outputs": [],
      "source": [
        "img = torch.from_numpy(img_arr)\n",
        "out = img.permute(2, 0, 1)"
      ]
    },
    {
      "cell_type": "code",
      "execution_count": 5,
      "metadata": {
        "id": "Ukkh4UyK0OYj"
      },
      "outputs": [],
      "source": [
        "batch_size = 3\n",
        "batch = torch.zeros(batch_size, 3, 256, 256, dtype=torch.uint8)"
      ]
    },
    {
      "cell_type": "markdown",
      "source": [],
      "metadata": {
        "id": "TjfjcMxD-_r1"
      }
    },
    {
      "cell_type": "code",
      "execution_count": null,
      "metadata": {
        "scrolled": true,
        "id": "XaQVWo3F0OYj"
      },
      "outputs": [],
      "source": [
        "import os\n",
        "\n",
        "data_dir = '/content/drive/MyDrive/datasets/DeepLearningPyTorch/p1ch4/image-cats/'\n",
        "filenames = [name for name in os.listdir(data_dir)\n",
        "             if os.path.splitext(name)[-1] == '.png']\n",
        "for i, filename in enumerate(filenames):\n",
        "    img_arr = imageio.imread(os.path.join(data_dir, filename))\n",
        "    img_t = torch.from_numpy(img_arr)\n",
        "    img_t = img_t.permute(2, 0, 1) # Reorganiza a (canales, altura, ancho)\n",
        "    img_t = img_t[:3] # Para eliminar, si hubiera, el canal de transparencia. En gnl solo se necesita una imagen en RGB\n",
        "    batch[i] = img_t"
      ]
    },
    {
      "cell_type": "code",
      "execution_count": 6,
      "metadata": {
        "id": "katQ3qiJ0OYk"
      },
      "outputs": [],
      "source": [
        "batch = batch.float()\n",
        "batch /= 255.0"
      ]
    },
    {
      "cell_type": "code",
      "execution_count": 9,
      "metadata": {
        "id": "J8rfOAPM0OYl"
      },
      "outputs": [],
      "source": [
        "# Normalización de los canales de las imágenes en el lote\n",
        "\"\"\"\n",
        "*batch[:, c]:\n",
        "\n",
        "\t: significa \"todas las imágenes en el lote\".\n",
        "\n",
        "\tc es el índice del canal actual (0 para Red, 1 para Green, 2 para Blue).\n",
        "\n",
        "\tPor lo tanto, batch[:, c] selecciona todas las imágenes en el lote, pero solo el canal c en cada ciclo.\n",
        "\n",
        "\tEl resultado es un tensor de forma (batch_size, altura, ancho).\n",
        "\n",
        "*torch.mean(batch[:, c]):\n",
        "\n",
        "\tCalcula la media de todos los valores en el canal c para todas las imágenes en el lote.\n",
        "\n",
        "\tEl resultado es un solo número (un escalar).\n",
        "\n",
        "*torch.std(batch[:, c]):\n",
        "\n",
        "\tCalcula la desviación estándar de todos los valores en el canal c para todas las imágenes en el lote.\n",
        "\n",
        "\tEl resultado es un solo número (un escalar).\n",
        "\n",
        "*batch[:, c] = (batch[:, c] - mean) / std:\n",
        "\n",
        "\tNormaliza el canal c restando la media y dividiendo por la desviación estándar.\n",
        "\n",
        "\tEsto se hace para todas las imágenes en el lote.\n",
        "\"\"\"\n",
        "n_channels = batch.shape[1]  # Número de canales (3 para RGB)\n",
        "for c in range(n_channels):\n",
        "    mean = torch.mean(batch[:, c])  # Calcula la media del canal c en todo el lote\n",
        "    std = torch.std(batch[:, c])  # Calcula la desviación estándar del canal c en todo el lote\n",
        "    batch[:, c] = (batch[:, c] - mean) / std  # Normaliza el canal c"
      ]
    }
  ],
  "metadata": {
    "kernelspec": {
      "display_name": "Python 3",
      "language": "python",
      "name": "python3"
    },
    "language_info": {
      "codemirror_mode": {
        "name": "ipython",
        "version": 3
      },
      "file_extension": ".py",
      "mimetype": "text/x-python",
      "name": "python",
      "nbconvert_exporter": "python",
      "pygments_lexer": "ipython3",
      "version": "3.7.6"
    },
    "colab": {
      "provenance": []
    }
  },
  "nbformat": 4,
  "nbformat_minor": 0
}